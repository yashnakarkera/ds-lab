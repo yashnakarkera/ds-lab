{
 "cells": [
  {
   "cell_type": "code",
   "execution_count": 1,
   "metadata": {},
   "outputs": [
    {
     "name": "stdout",
     "output_type": "stream",
     "text": [
      "Original feature number: 4\n",
      "Reduced feature number: 2\n",
      "Original feature number: 4\n",
      "Reduced feature number: 2\n"
     ]
    }
   ],
   "source": [
    "from sklearn.datasets import load_iris\n",
    "from sklearn.feature_selection import SelectKBest \n",
    "from sklearn.feature_selection import chi2\n",
    "iris_dataset = load_iris()\n",
    "X = iris_dataset.data\n",
    "y = iris_dataset.target\n",
    "X = X.astype(int)\n",
    "chi2_features = SelectKBest(chi2, k = 2)\n",
    "X_kbest_features = chi2_features.fit_transform(X, y)\n",
    "print('Original feature number:', X.shape[1])\n",
    "print('Reduced feature number:', X_kbest_features.shape[1])\n",
    "from sklearn.feature_selection import SelectKBest \n",
    "from sklearn.feature_selection import chi2\n",
    "# Load iris data\n",
    "iris_dataset = load_iris()\n",
    "X = iris_dataset.data\n",
    "y = iris_dataset.target\n",
    "X = X.astype(int)\n",
    "chi2_features = SelectKBest(chi2, k = 2)\n",
    "X_kbest_features = chi2_features.fit_transform(X, y)\n",
    "print('Original feature number:', X.shape[1])\n",
    "print('Reduced feature number:', X_kbest_features.shape[1])\n"
   ]
  }
 ],
 "metadata": {
  "kernelspec": {
   "display_name": "Python 3",
   "language": "python",
   "name": "python3"
  },
  "language_info": {
   "codemirror_mode": {
    "name": "ipython",
    "version": 3
   },
   "file_extension": ".py",
   "mimetype": "text/x-python",
   "name": "python",
   "nbconvert_exporter": "python",
   "pygments_lexer": "ipython3",
   "version": "3.9.7"
  },
  "orig_nbformat": 4,
  "vscode": {
   "interpreter": {
    "hash": "b671c20432fcd147198c92e7f072af9e705f087eb990bee22b07f08caab9f630"
   }
  }
 },
 "nbformat": 4,
 "nbformat_minor": 2
}
