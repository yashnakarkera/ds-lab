{
 "cells": [
  {
   "cell_type": "code",
   "execution_count": 6,
   "metadata": {},
   "outputs": [],
   "source": [
    "import numpy as np\n",
    "import pandas as pd\n",
    "import matplotlib.pyplot as plt\n",
    "data = pd.read_csv(r\"C:\\Users\\hp\\OneDrive\\Desktop\\dslab\\Iris.csv\")\n",
    "data_points = data.iloc[:, 1:5]\n",
    "labels = data.iloc[:, 5]\n",
    "from sklearn.model_selection import train_test_split\n",
    "x_train,x_test,y_train,y_test = train_test_split(data_points,labels,test_size=0.2)\n",
    "from sklearn.preprocessing import StandardScaler \n",
    "from sklearn.model_selection import cross_val_score \n",
    "Standard_obj = StandardScaler() \n",
    "Standard_obj.fit(x_train)\n",
    "x_train_std = Standard_obj.transform(x_train)\n",
    "x_test_std = Standard_obj.transform(x_test)\n"
   ]
  },
  {
   "cell_type": "code",
   "execution_count": 7,
   "metadata": {},
   "outputs": [
    {
     "name": "stdout",
     "output_type": "stream",
     "text": [
      "Accuracy using SVM\n",
      "Training data accuracy 97.50\n",
      "Testing data accuracy 100.00\n"
     ]
    }
   ],
   "source": [
    "#using svm\n",
    "from sklearn.svm import SVC\n",
    "svm = SVC(kernel='rbf', random_state=0, gamma=.10, C=1.0)\n",
    "svm.fit(x_train_std, y_train)\n",
    "print(\"Accuracy using SVM\")\n",
    "print('Training data accuracy {:.2f}'.format(svm.score(x_train_std, y_train)*100))\n",
    "print('Testing data accuracy {:.2f}'.format(svm.score(x_test_std, y_test)*100))\n"
   ]
  },
  {
   "cell_type": "code",
   "execution_count": 8,
   "metadata": {},
   "outputs": [
    {
     "name": "stdout",
     "output_type": "stream",
     "text": [
      "Accuracy using KNN\n",
      "Training data accuracy 96.67\n",
      "Testing data accuracy 100.00\n"
     ]
    }
   ],
   "source": [
    "#using knn\n",
    "from sklearn.neighbors import KNeighborsClassifier\n",
    "knn = KNeighborsClassifier(n_neighbors = 7, p = 2, metric='minkowski')\n",
    "knn.fit(x_train_std,y_train)\n",
    "print(\"Accuracy using KNN\")\n",
    "print('Training data accuracy {:.2f}'.format(knn.score(x_train_std, y_train)*100))\n",
    "print('Testing data accuracy {:.2f}'.format(knn.score(x_test_std, y_test)*100))\n"
   ]
  },
  {
   "cell_type": "code",
   "execution_count": 9,
   "metadata": {},
   "outputs": [
    {
     "name": "stdout",
     "output_type": "stream",
     "text": [
      "Accuracy using decision tree\n",
      "Training data accuracy 100.00\n",
      "Testing data accuracy 90.00\n"
     ]
    }
   ],
   "source": [
    "#using decision tree\n",
    "from sklearn import tree\n",
    "decision_tree = tree.DecisionTreeClassifier(criterion='gini')\n",
    "decision_tree.fit(x_train_std, y_train)\n",
    "print(\"Accuracy using decision tree\")\n",
    "print('Training data accuracy {:.2f}'.format(decision_tree.score(x_train_std, y_train)*100))\n",
    "print('Testing data accuracy {:.2f}'.format(decision_tree.score(x_test_std, y_test)*100))\n"
   ]
  },
  {
   "cell_type": "code",
   "execution_count": 11,
   "metadata": {},
   "outputs": [
    {
     "name": "stdout",
     "output_type": "stream",
     "text": [
      "Accuracy using random forest\n",
      "Training data accuracy 100.00\n",
      "Testing data accuracy 93.33\n"
     ]
    }
   ],
   "source": [
    "#using randomforest\n",
    "from sklearn.ensemble import RandomForestClassifier \n",
    "random_forest = RandomForestClassifier() \n",
    "random_forest.fit(x_train_std, y_train)\n",
    "print(\"Accuracy using random forest\")\n",
    "print('Training data accuracy {:.2f}'.format(random_forest.score(x_train_std, y_train)*100))\n",
    "print('Testing data accuracy {:.2f}'.format(random_forest.score(x_test_std, y_test)*100))\n"
   ]
  }
 ],
 "metadata": {
  "kernelspec": {
   "display_name": "Python 3",
   "language": "python",
   "name": "python3"
  },
  "language_info": {
   "codemirror_mode": {
    "name": "ipython",
    "version": 3
   },
   "file_extension": ".py",
   "mimetype": "text/x-python",
   "name": "python",
   "nbconvert_exporter": "python",
   "pygments_lexer": "ipython3",
   "version": "3.9.7"
  },
  "orig_nbformat": 4,
  "vscode": {
   "interpreter": {
    "hash": "b671c20432fcd147198c92e7f072af9e705f087eb990bee22b07f08caab9f630"
   }
  }
 },
 "nbformat": 4,
 "nbformat_minor": 2
}
