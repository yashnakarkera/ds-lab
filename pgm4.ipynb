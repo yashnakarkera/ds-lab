{
 "cells": [
  {
   "cell_type": "code",
   "execution_count": 8,
   "metadata": {},
   "outputs": [
    {
     "name": "stdout",
     "output_type": "stream",
     "text": [
      "           mpg       cyl      disp        hp      drat        wt      qsec  \\\n",
      "mpg   1.000000 -0.852162 -0.847551 -0.776168  0.681172 -0.867659  0.418684   \n",
      "cyl  -0.852162  1.000000  0.902033  0.832447 -0.699938  0.782496 -0.591242   \n",
      "disp -0.847551  0.902033  1.000000  0.790949 -0.710214  0.887980 -0.433698   \n",
      "hp   -0.776168  0.832447  0.790949  1.000000 -0.448759  0.658748 -0.708223   \n",
      "drat  0.681172 -0.699938 -0.710214 -0.448759  1.000000 -0.712441  0.091205   \n",
      "wt   -0.867659  0.782496  0.887980  0.658748 -0.712441  1.000000 -0.174716   \n",
      "qsec  0.418684 -0.591242 -0.433698 -0.708223  0.091205 -0.174716  1.000000   \n",
      "vs    0.664039 -0.810812 -0.710416 -0.723097  0.440278 -0.554916  0.744535   \n",
      "am    0.599832 -0.522607 -0.591227 -0.243204  0.712711 -0.692495 -0.229861   \n",
      "gear  0.480285 -0.492687 -0.555569 -0.125704  0.699610 -0.583287 -0.212682   \n",
      "carb -0.550925  0.526988  0.394977  0.749812 -0.090790  0.427606 -0.656249   \n",
      "\n",
      "            vs        am      gear      carb  \n",
      "mpg   0.664039  0.599832  0.480285 -0.550925  \n",
      "cyl  -0.810812 -0.522607 -0.492687  0.526988  \n",
      "disp -0.710416 -0.591227 -0.555569  0.394977  \n",
      "hp   -0.723097 -0.243204 -0.125704  0.749812  \n",
      "drat  0.440278  0.712711  0.699610 -0.090790  \n",
      "wt   -0.554916 -0.692495 -0.583287  0.427606  \n",
      "qsec  0.744535 -0.229861 -0.212682 -0.656249  \n",
      "vs    1.000000  0.168345  0.206023 -0.569607  \n",
      "am    0.168345  1.000000  0.794059  0.057534  \n",
      "gear  0.206023  0.794059  1.000000  0.274073  \n",
      "carb -0.569607  0.057534  0.274073  1.000000  \n",
      "-5.1166846774193555\n"
     ]
    }
   ],
   "source": [
    "#Using python code for mtcars dataset plot correlation matrix\n",
    "import pandas as pd\n",
    "\n",
    "df = pd.read_csv(r\"C:\\Users\\hp\\OneDrive\\Desktop\\dslab\\mtcars.csv\")\n",
    "print(df.corr(method=\"pearson\"))\n",
    "print(df[\"mpg\"].cov(df[\"wt\"]))\n",
    "\n"
   ]
  }
 ],
 "metadata": {
  "kernelspec": {
   "display_name": "Python 3",
   "language": "python",
   "name": "python3"
  },
  "language_info": {
   "codemirror_mode": {
    "name": "ipython",
    "version": 3
   },
   "file_extension": ".py",
   "mimetype": "text/x-python",
   "name": "python",
   "nbconvert_exporter": "python",
   "pygments_lexer": "ipython3",
   "version": "3.9.7"
  },
  "orig_nbformat": 4,
  "vscode": {
   "interpreter": {
    "hash": "b671c20432fcd147198c92e7f072af9e705f087eb990bee22b07f08caab9f630"
   }
  }
 },
 "nbformat": 4,
 "nbformat_minor": 2
}
